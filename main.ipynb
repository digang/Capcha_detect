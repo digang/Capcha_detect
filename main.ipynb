{
 "cells": [
  {
   "cell_type": "code",
   "execution_count": 1,
   "metadata": {},
   "outputs": [],
   "source": [
    "import os\n",
    "import glob \n",
    "import pandas as pd\n",
    "import string\n",
    "import collections\n",
    "from tqdm import tqdm\n",
    "from PIL import Image\n",
    "\n",
    "from sklearn.model_selection import train_test_split\n",
    "\n",
    "import torch\n",
    "import torch.nn as nn\n",
    "import torch.nn.functional as F\n",
    "import torchvision.transforms as T\n",
    "from torch.utils.data import DataLoader\n",
    "import torch.optim as optim"
   ]
  },
  {
   "cell_type": "code",
   "execution_count": 2,
   "metadata": {},
   "outputs": [],
   "source": [
    "data = glob.glob(os.path.join('./samples/samples', '*.png'))\n",
    "path = './samples/samples'\n",
    "DEVICE = torch.device('cuda' if torch.cuda.is_available() else 'cpu')"
   ]
  },
  {
   "cell_type": "code",
   "execution_count": 3,
   "metadata": {},
   "outputs": [
    {
     "data": {
      "text/plain": [
       "device(type='cpu')"
      ]
     },
     "execution_count": 3,
     "metadata": {},
     "output_type": "execute_result"
    }
   ],
   "source": [
    "DEVICE"
   ]
  },
  {
   "cell_type": "code",
   "execution_count": 12,
   "metadata": {},
   "outputs": [
    {
     "name": "stdout",
     "output_type": "stream",
     "text": [
      "{'a': 1, 'b': 2, 'c': 3, 'd': 4, 'e': 5, 'f': 6, 'g': 7, 'h': 8, 'i': 9, 'j': 10, 'k': 11, 'l': 12, 'm': 13, 'n': 14, 'o': 15, 'p': 16, 'q': 17, 'r': 18, 's': 19, 't': 20, 'u': 21, 'v': 22, 'w': 23, 'x': 24, 'y': 25, 'z': 26, '0': 27, '1': 28, '2': 29, '3': 30, '4': 31, '5': 32, '6': 33, '7': 34, '8': 35, '9': 36}\n"
     ]
    }
   ],
   "source": [
    "all_letters = string.ascii_lowercase + string.digits\n",
    "\n",
    "mapping = {}\n",
    "mapping_inv = {}\n",
    "i = 1\n",
    "for x in all_letters:\n",
    "    mapping[x] = i\n",
    "    mapping_inv[i] = x\n",
    "    i += 1\n",
    "    "
   ]
  },
  {
   "cell_type": "code",
   "execution_count": 5,
   "metadata": {},
   "outputs": [],
   "source": [
    "num_class = len(mapping)"
   ]
  },
  {
   "cell_type": "code",
   "execution_count": 7,
   "metadata": {},
   "outputs": [
    {
     "data": {
      "text/html": [
       "<div>\n",
       "<style scoped>\n",
       "    .dataframe tbody tr th:only-of-type {\n",
       "        vertical-align: middle;\n",
       "    }\n",
       "\n",
       "    .dataframe tbody tr th {\n",
       "        vertical-align: top;\n",
       "    }\n",
       "\n",
       "    .dataframe thead th {\n",
       "        text-align: right;\n",
       "    }\n",
       "</style>\n",
       "<table border=\"1\" class=\"dataframe\">\n",
       "  <thead>\n",
       "    <tr style=\"text-align: right;\">\n",
       "      <th></th>\n",
       "      <th>image</th>\n",
       "      <th>label</th>\n",
       "    </tr>\n",
       "  </thead>\n",
       "  <tbody>\n",
       "    <tr>\n",
       "      <th>0</th>\n",
       "      <td>p5g5m.png</td>\n",
       "      <td>[16, 32, 7, 32, 13]</td>\n",
       "    </tr>\n",
       "    <tr>\n",
       "      <th>1</th>\n",
       "      <td>e72cd.png</td>\n",
       "      <td>[5, 34, 29, 3, 4]</td>\n",
       "    </tr>\n",
       "    <tr>\n",
       "      <th>2</th>\n",
       "      <td>pgmn2.png</td>\n",
       "      <td>[16, 7, 13, 14, 29]</td>\n",
       "    </tr>\n",
       "    <tr>\n",
       "      <th>3</th>\n",
       "      <td>6cm6m.png</td>\n",
       "      <td>[33, 3, 13, 33, 13]</td>\n",
       "    </tr>\n",
       "    <tr>\n",
       "      <th>4</th>\n",
       "      <td>68wfd.png</td>\n",
       "      <td>[33, 35, 23, 6, 4]</td>\n",
       "    </tr>\n",
       "  </tbody>\n",
       "</table>\n",
       "</div>"
      ],
      "text/plain": [
       "       image                label\n",
       "0  p5g5m.png  [16, 32, 7, 32, 13]\n",
       "1  e72cd.png    [5, 34, 29, 3, 4]\n",
       "2  pgmn2.png  [16, 7, 13, 14, 29]\n",
       "3  6cm6m.png  [33, 3, 13, 33, 13]\n",
       "4  68wfd.png   [33, 35, 23, 6, 4]"
      ]
     },
     "execution_count": 7,
     "metadata": {},
     "output_type": "execute_result"
    }
   ],
   "source": [
    "images = []\n",
    "labels = []\n",
    "datas = collections.defaultdict(list)\n",
    "for d in data:\n",
    "    x = d.split('/')[-1]\n",
    "    datas['image'].append(x)\n",
    "    datas['label'].append([mapping[i] for i in x.split('.')[0]])\n",
    "df = pd.DataFrame(datas)\n",
    "df.head()"
   ]
  },
  {
   "cell_type": "code",
   "execution_count": 8,
   "metadata": {},
   "outputs": [],
   "source": [
    "df_train, df_test = train_test_split(df, test_size=0.2, shuffle=True)"
   ]
  },
  {
   "cell_type": "code",
   "execution_count": 9,
   "metadata": {},
   "outputs": [],
   "source": [
    "class CaptchaDataset:\n",
    "    def __init__(self, df, transform=None):\n",
    "        self.df = df\n",
    "        self.transform = transform\n",
    "        \n",
    "    def __len__(self):\n",
    "        return len(self.df)\n",
    "    \n",
    "    def __getitem__(self, idx):\n",
    "        data = self.df.iloc[idx]\n",
    "        image = Image.open(os.path.join(path, data['image'])).convert('L')\n",
    "        label = torch.tensor(data['label'], dtype=torch.int32)\n",
    "        \n",
    "        if self.transform is not None:\n",
    "            image = self.transform(image)\n",
    "        \n",
    "        return image, label\n",
    "        \n",
    "        \n",
    "transform = T.Compose([\n",
    "    T.ToTensor()\n",
    "])\n",
    "    \n",
    "train_data = CaptchaDataset(df_train, transform)\n",
    "test_data = CaptchaDataset(df_test, transform)\n",
    "\n",
    "train_loader = DataLoader(train_data, batch_size=16, shuffle=True)\n",
    "test_loader = DataLoader(test_data, batch_size=8)"
   ]
  },
  {
   "cell_type": "code",
   "execution_count": 10,
   "metadata": {},
   "outputs": [],
   "source": [
    "class Bidirectional(nn.Module):\n",
    "    def __init__(self, inp, hidden, out, lstm=True):\n",
    "        super(Bidirectional, self).__init__()\n",
    "        if lstm:\n",
    "            self.rnn = nn.LSTM(inp, hidden, bidirectional=True)\n",
    "        else:\n",
    "            self.rnn = nn.GRU(inp, hidden, bidirectional=True)\n",
    "        self.embedding = nn.Linear(hidden*2, out)\n",
    "    def forward(self, X):\n",
    "        recurrent, _ = self.rnn(X)\n",
    "        out = self.embedding(recurrent)     \n",
    "        return out"
   ]
  },
  {
   "cell_type": "code",
   "execution_count": null,
   "metadata": {},
   "outputs": [],
   "source": [
    "class CRNN(nn.Module):\n",
    "    def __init__(self, in_channels, output):\n",
    "        super(CRNN, self).__init__()\n",
    "\n",
    "        self.cnn = nn.Sequential(\n",
    "                nn.Conv2d(in_channels, 256, 9, stride=1, padding=1),\n",
    "                nn.ReLU(),\n",
    "                nn.BatchNorm2d(256),\n",
    "                nn.MaxPool2d(3, 3),\n",
    "                nn.Conv2d(256, 256, (4, 3), stride=1, padding=1),\n",
    "                nn.ReLU(),\n",
    "                nn.BatchNorm2d(256))\n",
    "        \n",
    "        self.linear = nn.Linear(3328, 256)\n",
    "        self.bn1 = nn.BatchNorm1d(256)\n",
    "        self.rnn = Bidirectional(256, 1024, output+1)\n",
    "\n",
    "    def forward(self, X, y=None, criterion = None):\n",
    "        out = self.cnn(X)\n",
    "        N, C, w, h = out.size()\n",
    "        out = out.view(N, -1, h)\n",
    "        out = out.permute(0, 2, 1)\n",
    "        out = self.linear(out)\n",
    "\n",
    "        out = out.permute(1, 0, 2)\n",
    "        out = self.rnn(out)\n",
    "            \n",
    "        if y is not None:\n",
    "            T = out.size(0)\n",
    "            N = out.size(1)\n",
    "        \n",
    "            input_lengths = torch.full(size=(N,), fill_value=T, dtype=torch.int32)\n",
    "            target_lengths = torch.full(size=(N,), fill_value=5, dtype=torch.int32)\n",
    "        \n",
    "            loss = criterion(out, y, input_lengths, target_lengths)\n",
    "            \n",
    "            return out, loss\n",
    "        \n",
    "        return out, None\n",
    "    \n",
    "    def _ConvLayer(self, inp, out, kernel, stride, padding, bn=False):\n",
    "        if bn:\n",
    "            conv = [\n",
    "                nn.Conv2d(inp, out, kernel, stride=stride, padding=padding),\n",
    "                nn.ReLU(),\n",
    "                nn.BatchNorm2d(out)\n",
    "            ]\n",
    "        else:\n",
    "            conv = [\n",
    "                nn.Conv2d(inp, out, kernel, stride=stride, padding=padding),\n",
    "                nn.ReLU()\n",
    "            ]\n",
    "        return nn.Sequential(*conv)"
   ]
  },
  {
   "cell_type": "code",
   "execution_count": null,
   "metadata": {},
   "outputs": [],
   "source": [
    "class Engine:\n",
    "    def __init__(self, model, optimizer, criterion, epochs=50, early_stop=False, device='cpu'):\n",
    "        self.model = model\n",
    "        self.optimizer = optimizer\n",
    "        self.criterion = criterion\n",
    "        self.epochs = epochs\n",
    "        self.early_stop = early_stop\n",
    "        self.device = device\n",
    "        \n",
    "    def fit(self, dataloader):\n",
    "        hist_loss = []\n",
    "        for epoch in range(self.epochs):\n",
    "            self.model.train()\n",
    "            tk = tqdm(dataloader, total=len(dataloader))\n",
    "            for data, target in tk:\n",
    "                data = data.to(device=self.device)\n",
    "                target = target.to(device=self.device)\n",
    "\n",
    "                self.optimizer.zero_grad()\n",
    "\n",
    "                out, loss = self.model(data, target, criterion=self.criterion)\n",
    "\n",
    "                loss.backward()\n",
    "\n",
    "                self.optimizer.step()\n",
    "\n",
    "\n",
    "                tk.set_postfix({'Epoch':epoch+1, 'Loss' : loss.item()})\n",
    "                \n",
    "    def evaluate(self, dataloader):\n",
    "        self.model.eval()\n",
    "        loss = 0\n",
    "        hist_loss = []\n",
    "        outs = collections.defaultdict(list)\n",
    "        tk = tqdm(dataloader, total=len(dataloader))\n",
    "        with torch.no_grad():\n",
    "            for data, target in tk:\n",
    "                data = data.to(device=self.device)\n",
    "                target = target.to(device=self.device)\n",
    "\n",
    "                out, loss = self.model(data, target, criterion=self.criterion)\n",
    "                \n",
    "                outs['pred'].append(out)\n",
    "                outs['target'].append(target)\n",
    "                \n",
    "\n",
    "                hist_loss.append(loss)\n",
    "\n",
    "                tk.set_postfix({'Loss':loss.item()})\n",
    "                \n",
    "        return outs, hist_loss\n",
    "    \n",
    "    def predict(self, image):\n",
    "        image = Image.open(image).convert('L')\n",
    "        image_tensor = T.ToTensor()(image)\n",
    "        image_tensor = image_tensor.unsqueeze(0)        \n",
    "        out, _ = self.model(image_tensor.to(device=self.device))\n",
    "        out = out.permute(1, 0, 2)\n",
    "        out = out.log_softmax(2)\n",
    "        out = out.argmax(2)\n",
    "        out = out.cpu().detach().numpy()\n",
    "        \n",
    "        return out\n",
    "        \n",
    "            \n",
    "            \n",
    "            \n",
    "model = CRNN(in_channels=1, output=num_class).to(DEVICE)\n",
    "optimizer = optim.Adam(model.parameters(), lr=1e-4)\n",
    "criterion = nn.CTCLoss()\n",
    "\n",
    "engine = Engine(model, optimizer, criterion, device=DEVICE)\n",
    "engine.fit(train_loader)\n",
    "outs, loss = engine.evaluate(test_loader)"
   ]
  }
 ],
 "metadata": {
  "interpreter": {
   "hash": "b58e27d9bd9b3d74d8ee276c2475a775e4fb756d3f12219e48db43077ac0e89a"
  },
  "kernelspec": {
   "display_name": "Python 3.8.12 64-bit ('torch38': conda)",
   "language": "python",
   "name": "python3"
  },
  "language_info": {
   "codemirror_mode": {
    "name": "ipython",
    "version": 3
   },
   "file_extension": ".py",
   "mimetype": "text/x-python",
   "name": "python",
   "nbconvert_exporter": "python",
   "pygments_lexer": "ipython3",
   "version": "3.8.12"
  },
  "orig_nbformat": 4
 },
 "nbformat": 4,
 "nbformat_minor": 2
}
